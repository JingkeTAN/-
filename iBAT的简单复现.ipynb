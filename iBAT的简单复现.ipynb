{
 "cells": [
  {
   "cell_type": "code",
   "execution_count": null,
   "id": "003b773c",
   "metadata": {},
   "outputs": [],
   "source": [
    "# 导入所需的模块\n",
    "import random\n",
    "import math\n",
    "\n",
    "\n",
    "\n",
    "# 定义一个函数，用于实现iBAT方法\n",
    "def iBAT(t, T, m, k):\n",
    "    # 输入参数：\n",
    "    # t - 测试轨迹\n",
    "    # T - 要与之分离的轨迹集合\n",
    "    # m - 运行试验的次数\n",
    "    # k - 子样本的大小\n",
    "    # 输出参数：\n",
    "    # s - 异常分数，表示测试轨迹t与轨迹集合T的差异程度\n",
    "\n",
    "    # 初始化一个长度为m的零向量n，用于记录每次试验中与测试轨迹t相似的轨迹的数量\n",
    "    n = [0] * m\n",
    "\n",
    "    # 对于每次试验i\n",
    "    for i in range(m):\n",
    "        # 从轨迹集合T中随机抽取k个轨迹作为子集T'\n",
    "        T_prime = random.sample(list(T), k)\n",
    "\n",
    "        # 重复以下步骤，直到子集T'为空\n",
    "        while T_prime:\n",
    "            # 将n[i]加一，表示当前子集中有一个轨迹与测试轨迹t相似\n",
    "            n[i] += 1\n",
    "            if n[i] <=20:\n",
    "                \n",
    "                    # 从测试轨迹t中随机选择一个单元格p，表示测试轨迹t经过的一个位置\n",
    "                p = random.choice(list(t))\n",
    "\n",
    "                # 从子集T'中筛选出包含单元格p的轨迹，作为新的子集T'，表示这些轨迹与测试轨迹t有共同的位置\n",
    "                T_prime = [traj for traj in T_prime if p in traj]\n",
    "            else:\n",
    "                break\n",
    "    return sum(n)/len(n),n[:5]"
   ]
  },
  {
   "cell_type": "code",
   "execution_count": null,
   "id": "64422eeb",
   "metadata": {},
   "outputs": [],
   "source": [
    "t1 = {\"A1\", \"A2\", \"A3\", \"A4\", \"A5\", \"B5\", \"C5\", \"D5\", \"E5\"}\n",
    "t6 = {\"A1\", \"A2\", \"A3\", \"A4\", \"A5\", \"B5\", \"C5\", \"D5\", \"D4\", \"E4\", \"E5\"}\n",
    "t2 = {\"A1\", \"B1\", \"C1\", \"D1\", \"E1\", \"E2\", \"E3\", \"E4\", \"E5\"}\n",
    "t3 = {\"A1\", \"A2\", \"A3\", \"B3\", \"C3\", \"D3\", \"E3\", \"E4\", \"E5\"}\n",
    "t4 = {\"A1\", \"A2\", \"B2\", \"C3\", \"C4\",\"D4\",\"D5\", \"E5\"}\n",
    "t5 = {\"A1\", \"B1\",\"C1\", \"D1\",  \"E1\", \"F1\", \"G1\",\"G2\",\"F2\",\"E2\", \"E3\", \"E4\", \"E5\"}\n",
    "t = t5 # 测试轨迹\n",
    "T = {tuple(t1), tuple(t2), tuple(t3), tuple(t4), tuple(t6)} # 要与之分离的轨迹集合\n",
    "m = 100 # 运行试验的次数\n",
    "k = 2 # 子样本的大小\n"
   ]
  },
  {
   "cell_type": "code",
   "execution_count": null,
   "id": "d79b51d9",
   "metadata": {},
   "outputs": [],
   "source": [
    "iBAT(t, T, m, k)"
   ]
  },
  {
   "cell_type": "code",
   "execution_count": null,
   "id": "e1a72e92",
   "metadata": {},
   "outputs": [],
   "source": [
    "t = t1 # 测试轨迹\n",
    "T = {tuple(t4), tuple(t2), tuple(t3), tuple(t5), tuple(t6)} # 要与之分离的轨迹集合"
   ]
  },
  {
   "cell_type": "code",
   "execution_count": null,
   "id": "6348aeaa",
   "metadata": {},
   "outputs": [],
   "source": [
    "iBAT(t, T, m, k)"
   ]
  }
 ],
 "metadata": {
  "kernelspec": {
   "display_name": "Python 3 (ipykernel)",
   "language": "python",
   "name": "python3"
  },
  "language_info": {
   "codemirror_mode": {
    "name": "ipython",
    "version": 3
   },
   "file_extension": ".py",
   "mimetype": "text/x-python",
   "name": "python",
   "nbconvert_exporter": "python",
   "pygments_lexer": "ipython3",
   "version": "3.11.4"
  }
 },
 "nbformat": 4,
 "nbformat_minor": 5
}
